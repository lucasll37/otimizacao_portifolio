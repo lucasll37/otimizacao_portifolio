{
 "cells": [
  {
   "cell_type": "code",
   "execution_count": 1,
   "id": "4f208209",
   "metadata": {},
   "outputs": [
    {
     "name": "stderr",
     "output_type": "stream",
     "text": [
      "2024-01-12 08:34:34.375193: I tensorflow/core/platform/cpu_feature_guard.cc:182] This TensorFlow binary is optimized to use available CPU instructions in performance-critical operations.\n",
      "To enable the following instructions: AVX2 AVX512F FMA, in other operations, rebuild TensorFlow with the appropriate compiler flags.\n",
      "2024-01-12 08:34:35.163448: W tensorflow/compiler/tf2tensorrt/utils/py_utils.cc:38] TF-TRT Warning: Could not find TensorRT\n"
     ]
    }
   ],
   "source": [
    "import warnings\n",
    "warnings.filterwarnings('ignore')\n",
    "\n",
    "import pandas as pd\n",
    "import numpy as np\n",
    "import optuna\n",
    "import os\n",
    "import matplotlib.pyplot as plt\n",
    "import random\n",
    "import tensorflow as tf\n",
    "from keras.models import Model\n",
    "from keras.callbacks import History\n",
    "\n",
    "from sklearn.preprocessing import MinMaxScaler\n",
    "from sklearn.model_selection import train_test_split\n",
    "from joblib import dump\n",
    "from typing import Callable, Dict, List\n",
    "\n",
    "os.environ['TF_CPP_MIN_LOG_LEVEL'] = '3'\n",
    "\n",
    "plt.style.use('ggplot')\n",
    "plt.rcParams['figure.figsize'] = [10, 5]\n",
    "plt.rc('figure', autolayout=True)"
   ]
  },
  {
   "cell_type": "code",
   "execution_count": 2,
   "id": "f1170d1c",
   "metadata": {},
   "outputs": [],
   "source": [
    "from src.model import create_model\n",
    "from src.callbacks import create_callbacks\n",
    "from src.optimizer import optimizer\n",
    "from src.variables import tickers, period, observation_window, SEED, n_trials_optuna, epochs, verbose"
   ]
  },
  {
   "cell_type": "code",
   "execution_count": 3,
   "id": "e7f5991a",
   "metadata": {},
   "outputs": [],
   "source": [
    "graphics: bool = True\n",
    "verbose: int = 1\n",
    "ticker = tickers[0]"
   ]
  },
  {
   "cell_type": "code",
   "execution_count": 4,
   "id": "1af23ef4",
   "metadata": {},
   "outputs": [
    {
     "name": "stdout",
     "output_type": "stream",
     "text": [
      "training predictive model for the asset ABEV3.SA...\n"
     ]
    }
   ],
   "source": [
    "random.seed(SEED)\n",
    "np.random.seed(SEED)\n",
    "\n",
    "\n",
    "print(f\"training predictive model for the asset {ticker}...\")"
   ]
  },
  {
   "cell_type": "code",
   "execution_count": 5,
   "id": "7373d02d",
   "metadata": {},
   "outputs": [],
   "source": [
    "data: pd.DataFrame = pd.read_csv(f'./results/data/{ticker}.csv', index_col='Date', parse_dates=True)\n",
    "label: str = f\"{ticker} period {data.index.min().strftime('%Y-%m-%d')} - {data.index.max().strftime('%Y-%m-%d')}\""
   ]
  },
  {
   "cell_type": "code",
   "execution_count": 6,
   "id": "89d1dfb9",
   "metadata": {},
   "outputs": [
    {
     "data": {
      "text/plain": [
       "'ABEV3.SA period 2014-01-09 - 2023-01-03'"
      ]
     },
     "execution_count": 6,
     "metadata": {},
     "output_type": "execute_result"
    }
   ],
   "source": [
    "label"
   ]
  },
  {
   "cell_type": "code",
   "execution_count": 7,
   "id": "c4f8be1a",
   "metadata": {},
   "outputs": [],
   "source": [
    "df_train_valid: pd.DataFrame = data[data.index < pd.Timestamp(period['boundary'])][['Adj Close']]\n",
    "df_test: pd.DataFrame = data[data.index >= pd.Timestamp(period['boundary'])][['Adj Close']]"
   ]
  },
  {
   "cell_type": "code",
   "execution_count": 8,
   "id": "4620a23e",
   "metadata": {},
   "outputs": [
    {
     "data": {
      "text/html": [
       "<div>\n",
       "<style scoped>\n",
       "    .dataframe tbody tr th:only-of-type {\n",
       "        vertical-align: middle;\n",
       "    }\n",
       "\n",
       "    .dataframe tbody tr th {\n",
       "        vertical-align: top;\n",
       "    }\n",
       "\n",
       "    .dataframe thead th {\n",
       "        text-align: right;\n",
       "    }\n",
       "</style>\n",
       "<table border=\"1\" class=\"dataframe\">\n",
       "  <thead>\n",
       "    <tr style=\"text-align: right;\">\n",
       "      <th></th>\n",
       "      <th>Adj Close</th>\n",
       "    </tr>\n",
       "    <tr>\n",
       "      <th>Date</th>\n",
       "      <th></th>\n",
       "    </tr>\n",
       "  </thead>\n",
       "  <tbody>\n",
       "    <tr>\n",
       "      <th>2014-01-09</th>\n",
       "      <td>11.184703</td>\n",
       "    </tr>\n",
       "    <tr>\n",
       "      <th>2014-01-10</th>\n",
       "      <td>11.256698</td>\n",
       "    </tr>\n",
       "    <tr>\n",
       "      <th>2014-01-13</th>\n",
       "      <td>11.151981</td>\n",
       "    </tr>\n",
       "    <tr>\n",
       "      <th>2014-01-14</th>\n",
       "      <td>11.119260</td>\n",
       "    </tr>\n",
       "    <tr>\n",
       "      <th>2014-01-15</th>\n",
       "      <td>11.227573</td>\n",
       "    </tr>\n",
       "    <tr>\n",
       "      <th>...</th>\n",
       "      <td>...</td>\n",
       "    </tr>\n",
       "    <tr>\n",
       "      <th>2020-12-28</th>\n",
       "      <td>13.636804</td>\n",
       "    </tr>\n",
       "    <tr>\n",
       "      <th>2020-12-29</th>\n",
       "      <td>13.792456</td>\n",
       "    </tr>\n",
       "    <tr>\n",
       "      <th>2020-12-30</th>\n",
       "      <td>13.533036</td>\n",
       "    </tr>\n",
       "    <tr>\n",
       "      <th>2021-01-04</th>\n",
       "      <td>13.386031</td>\n",
       "    </tr>\n",
       "    <tr>\n",
       "      <th>2021-01-05</th>\n",
       "      <td>13.671394</td>\n",
       "    </tr>\n",
       "  </tbody>\n",
       "</table>\n",
       "<p>1736 rows × 1 columns</p>\n",
       "</div>"
      ],
      "text/plain": [
       "            Adj Close\n",
       "Date                 \n",
       "2014-01-09  11.184703\n",
       "2014-01-10  11.256698\n",
       "2014-01-13  11.151981\n",
       "2014-01-14  11.119260\n",
       "2014-01-15  11.227573\n",
       "...               ...\n",
       "2020-12-28  13.636804\n",
       "2020-12-29  13.792456\n",
       "2020-12-30  13.533036\n",
       "2021-01-04  13.386031\n",
       "2021-01-05  13.671394\n",
       "\n",
       "[1736 rows x 1 columns]"
      ]
     },
     "execution_count": 8,
     "metadata": {},
     "output_type": "execute_result"
    }
   ],
   "source": [
    "df_train_valid"
   ]
  },
  {
   "cell_type": "code",
   "execution_count": 9,
   "id": "75f6994b",
   "metadata": {},
   "outputs": [
    {
     "data": {
      "text/html": [
       "<div>\n",
       "<style scoped>\n",
       "    .dataframe tbody tr th:only-of-type {\n",
       "        vertical-align: middle;\n",
       "    }\n",
       "\n",
       "    .dataframe tbody tr th {\n",
       "        vertical-align: top;\n",
       "    }\n",
       "\n",
       "    .dataframe thead th {\n",
       "        text-align: right;\n",
       "    }\n",
       "</style>\n",
       "<table border=\"1\" class=\"dataframe\">\n",
       "  <thead>\n",
       "    <tr style=\"text-align: right;\">\n",
       "      <th></th>\n",
       "      <th>Adj Close</th>\n",
       "    </tr>\n",
       "    <tr>\n",
       "      <th>Date</th>\n",
       "      <th></th>\n",
       "    </tr>\n",
       "  </thead>\n",
       "  <tbody>\n",
       "    <tr>\n",
       "      <th>2021-01-06</th>\n",
       "      <td>13.948107</td>\n",
       "    </tr>\n",
       "    <tr>\n",
       "      <th>2021-01-07</th>\n",
       "      <td>13.878927</td>\n",
       "    </tr>\n",
       "    <tr>\n",
       "      <th>2021-01-08</th>\n",
       "      <td>14.294000</td>\n",
       "    </tr>\n",
       "    <tr>\n",
       "      <th>2021-01-11</th>\n",
       "      <td>13.922165</td>\n",
       "    </tr>\n",
       "    <tr>\n",
       "      <th>2021-01-12</th>\n",
       "      <td>14.527477</td>\n",
       "    </tr>\n",
       "    <tr>\n",
       "      <th>...</th>\n",
       "      <td>...</td>\n",
       "    </tr>\n",
       "    <tr>\n",
       "      <th>2022-12-27</th>\n",
       "      <td>13.798742</td>\n",
       "    </tr>\n",
       "    <tr>\n",
       "      <th>2022-12-28</th>\n",
       "      <td>13.827251</td>\n",
       "    </tr>\n",
       "    <tr>\n",
       "      <th>2022-12-29</th>\n",
       "      <td>13.798742</td>\n",
       "    </tr>\n",
       "    <tr>\n",
       "      <th>2023-01-02</th>\n",
       "      <td>13.485133</td>\n",
       "    </tr>\n",
       "    <tr>\n",
       "      <th>2023-01-03</th>\n",
       "      <td>13.466127</td>\n",
       "    </tr>\n",
       "  </tbody>\n",
       "</table>\n",
       "<p>497 rows × 1 columns</p>\n",
       "</div>"
      ],
      "text/plain": [
       "            Adj Close\n",
       "Date                 \n",
       "2021-01-06  13.948107\n",
       "2021-01-07  13.878927\n",
       "2021-01-08  14.294000\n",
       "2021-01-11  13.922165\n",
       "2021-01-12  14.527477\n",
       "...               ...\n",
       "2022-12-27  13.798742\n",
       "2022-12-28  13.827251\n",
       "2022-12-29  13.798742\n",
       "2023-01-02  13.485133\n",
       "2023-01-03  13.466127\n",
       "\n",
       "[497 rows x 1 columns]"
      ]
     },
     "execution_count": 9,
     "metadata": {},
     "output_type": "execute_result"
    }
   ],
   "source": [
    "df_test"
   ]
  },
  {
   "cell_type": "code",
   "execution_count": 10,
   "id": "db1084ba",
   "metadata": {},
   "outputs": [],
   "source": [
    "scaler: MinMaxScaler = MinMaxScaler()"
   ]
  },
  {
   "cell_type": "code",
   "execution_count": 11,
   "id": "2d641c8e",
   "metadata": {},
   "outputs": [],
   "source": [
    "scaled_df_train_valid: np.ndarray = scaler.fit_transform(df_train_valid)\n",
    "scaled_df_test: np.ndarray = scaler.transform(df_test)"
   ]
  },
  {
   "cell_type": "code",
   "execution_count": 12,
   "id": "4e8cb58e",
   "metadata": {},
   "outputs": [
    {
     "data": {
      "text/plain": [
       "['./results/serialized objects/ABEV3.SA/scaler - ABEV3.SA period 2014-01-09 - 2023-01-03.joblib']"
      ]
     },
     "execution_count": 12,
     "metadata": {},
     "output_type": "execute_result"
    }
   ],
   "source": [
    "if not os.path.exists(f'./results/serialized objects/{ticker}'):\n",
    "    os.makedirs(f'./results/serialized objects/{ticker}')\n",
    "\n",
    "dump(scaler, f'./results/serialized objects/{ticker}/scaler - {label}.joblib')"
   ]
  },
  {
   "cell_type": "code",
   "execution_count": 13,
   "id": "491264ec",
   "metadata": {},
   "outputs": [],
   "source": [
    "if graphics:\n",
    "    plt.title(f\"Divisão de data Treino/Validação - {ticker}\")\n",
    "    plt.plot(df_train_valid.index, df_train_valid['Adj Close'], label = 'Dados de Treino e Validação') \n",
    "    plt.plot(df_test.index, df_test['Adj Close'], label = 'Dados de Teste') \n",
    "    plt.xticks(rotation=45)\n",
    "    plt.legend(loc = 'best')\n",
    "\n",
    "    if not os.path.exists(f'./results/graphics/{ticker}/{label}/Training'):\n",
    "        os.makedirs(f'./results/graphics/{ticker}/{label}/Training')\n",
    "\n",
    "    plt.savefig(f'./results/graphics/{ticker}/{label}/Training/Divisão de data Treino-Validação.png')\n",
    "    plt.close()"
   ]
  },
  {
   "cell_type": "code",
   "execution_count": 14,
   "id": "71c296d8",
   "metadata": {},
   "outputs": [],
   "source": [
    "X_train_valid: List[np.ndarray] = []\n",
    "y_train_valid: List[np.ndarray] = []\n",
    "\n",
    "for i in range(observation_window['stepsBack'], len(scaled_df_train_valid) - observation_window['stepsFoward']):\n",
    "    X_train_valid.append(scaled_df_train_valid[i - observation_window['stepsBack']:i, 0])\n",
    "    y_train_valid.append(scaled_df_train_valid[i:i + observation_window['stepsFoward'], 0])\n",
    "\n",
    "X_train_valid: np.ndarray = np.array(X_train_valid)\n",
    "y_train_valid: np.ndarray = np.array(y_train_valid)\n",
    "X_train_valid: np.ndarray = np.reshape(X_train_valid, (X_train_valid.shape[0], X_train_valid.shape[1], 1))\n",
    "\n",
    "X_train: np.ndarray\n",
    "X_valid: np.ndarray\n",
    "y_train: np.ndarray\n",
    "y_valid: np.ndarray\n",
    "X_train, X_valid, y_train, y_valid = train_test_split(\n",
    "    X_train_valid,\n",
    "    y_train_valid,\n",
    "    test_size = 0.2,\n",
    "    shuffle = True,\n",
    "    random_state = SEED\n",
    ")"
   ]
  },
  {
   "cell_type": "code",
   "execution_count": 15,
   "id": "496475c6",
   "metadata": {},
   "outputs": [],
   "source": [
    "X_test: List[np.ndarray] = []\n",
    "y_test: List[np.ndarray] = []\n",
    "\n",
    "for i in range(observation_window['stepsBack'], len(scaled_df_test) - observation_window['stepsFoward']):\n",
    "    X_test.append(scaled_df_test[i - observation_window['stepsBack']:i, 0])\n",
    "    y_test.append(scaled_df_test[i:i + observation_window['stepsFoward'], 0])\n",
    "\n",
    "X_test: np.ndarray = np.array(X_test)\n",
    "y_test: np.ndarray = np.array(y_test)\n",
    "X_test: np.ndarray = np.reshape(X_test, (X_test.shape[0], X_test.shape[1], 1))"
   ]
  },
  {
   "cell_type": "code",
   "execution_count": 16,
   "id": "b9b4e663",
   "metadata": {},
   "outputs": [],
   "source": [
    "if not os.path.exists(f'./sqlite/{ticker}'):\n",
    "    os.makedirs(f'./sqlite/{ticker}')"
   ]
  },
  {
   "cell_type": "code",
   "execution_count": 17,
   "id": "687f3255",
   "metadata": {},
   "outputs": [
    {
     "name": "stderr",
     "output_type": "stream",
     "text": [
      "[I 2024-01-12 08:34:49,459] Using an existing study with name 'ABEV3.SA period 2014-01-09 - 2023-01-03' instead of creating a new one.\n"
     ]
    }
   ],
   "source": [
    "study: optuna.study.Study = optuna.create_study(\n",
    "    study_name=label,\n",
    "    storage=f\"sqlite:///./sqlite/{ticker}/{label}.db\",\n",
    "    load_if_exists=True,\n",
    "    direction='minimize'\n",
    ")"
   ]
  },
  {
   "cell_type": "code",
   "execution_count": null,
   "id": "bf4c35df",
   "metadata": {},
   "outputs": [
    {
     "name": "stderr",
     "output_type": "stream",
     "text": [
      "2024-01-12 08:35:05.729014: I tensorflow/compiler/xla/stream_executor/cuda/cuda_gpu_executor.cc:981] could not open file to read NUMA node: /sys/bus/pci/devices/0000:65:00.0/numa_node\n",
      "Your kernel may have been built without NUMA support.\n",
      "2024-01-12 08:35:05.775541: I tensorflow/compiler/xla/stream_executor/cuda/cuda_gpu_executor.cc:981] could not open file to read NUMA node: /sys/bus/pci/devices/0000:65:00.0/numa_node\n",
      "Your kernel may have been built without NUMA support.\n",
      "2024-01-12 08:35:05.775610: I tensorflow/compiler/xla/stream_executor/cuda/cuda_gpu_executor.cc:981] could not open file to read NUMA node: /sys/bus/pci/devices/0000:65:00.0/numa_node\n",
      "Your kernel may have been built without NUMA support.\n",
      "2024-01-12 08:35:05.779661: I tensorflow/compiler/xla/stream_executor/cuda/cuda_gpu_executor.cc:981] could not open file to read NUMA node: /sys/bus/pci/devices/0000:65:00.0/numa_node\n",
      "Your kernel may have been built without NUMA support.\n",
      "2024-01-12 08:35:05.779740: I tensorflow/compiler/xla/stream_executor/cuda/cuda_gpu_executor.cc:981] could not open file to read NUMA node: /sys/bus/pci/devices/0000:65:00.0/numa_node\n",
      "Your kernel may have been built without NUMA support.\n",
      "2024-01-12 08:35:05.779778: I tensorflow/compiler/xla/stream_executor/cuda/cuda_gpu_executor.cc:981] could not open file to read NUMA node: /sys/bus/pci/devices/0000:65:00.0/numa_node\n",
      "Your kernel may have been built without NUMA support.\n",
      "2024-01-12 08:35:07.299695: I tensorflow/compiler/xla/stream_executor/cuda/cuda_gpu_executor.cc:981] could not open file to read NUMA node: /sys/bus/pci/devices/0000:65:00.0/numa_node\n",
      "Your kernel may have been built without NUMA support.\n",
      "2024-01-12 08:35:07.299808: I tensorflow/compiler/xla/stream_executor/cuda/cuda_gpu_executor.cc:981] could not open file to read NUMA node: /sys/bus/pci/devices/0000:65:00.0/numa_node\n",
      "Your kernel may have been built without NUMA support.\n",
      "2024-01-12 08:35:07.299818: I tensorflow/core/common_runtime/gpu/gpu_device.cc:1726] Could not identify NUMA node of platform GPU id 0, defaulting to 0.  Your kernel may not have been built with NUMA support.\n",
      "2024-01-12 08:35:07.299860: I tensorflow/compiler/xla/stream_executor/cuda/cuda_gpu_executor.cc:981] could not open file to read NUMA node: /sys/bus/pci/devices/0000:65:00.0/numa_node\n",
      "Your kernel may have been built without NUMA support.\n",
      "2024-01-12 08:35:07.299891: I tensorflow/core/common_runtime/gpu/gpu_device.cc:1639] Created device /job:localhost/replica:0/task:0/device:GPU:0 with 1590 MB memory:  -> device: 0, name: NVIDIA GeForce RTX 3070, pci bus id: 0000:65:00.0, compute capability: 8.6\n"
     ]
    },
    {
     "name": "stdout",
     "output_type": "stream",
     "text": [
      "Epoch 1/3\n"
     ]
    },
    {
     "name": "stderr",
     "output_type": "stream",
     "text": [
      "2024-01-12 08:35:17.903361: I tensorflow/compiler/xla/stream_executor/cuda/cuda_dnn.cc:432] Loaded cuDNN version 8600\n",
      "2024-01-12 08:35:18.484627: I tensorflow/compiler/xla/stream_executor/cuda/cuda_blas.cc:606] TensorFloat-32 will be used for the matrix multiplication. This will only be logged once.\n",
      "2024-01-12 08:35:18.507152: I tensorflow/compiler/xla/service/service.cc:168] XLA service 0x7f426802e270 initialized for platform CUDA (this does not guarantee that XLA will be used). Devices:\n",
      "2024-01-12 08:35:18.507212: I tensorflow/compiler/xla/service/service.cc:176]   StreamExecutor device (0): NVIDIA GeForce RTX 3070, Compute Capability 8.6\n"
     ]
    }
   ],
   "source": [
    "study.optimize(\n",
    "    lambda trial: optimizer(\n",
    "        trial,\n",
    "        create_model,\n",
    "        create_callbacks,\n",
    "        X_train,\n",
    "        y_train,\n",
    "        X_valid,\n",
    "        y_valid,\n",
    "        ticker,\n",
    "        label,\n",
    "        epochs,\n",
    "        observation_window,\n",
    "        verbose\n",
    "    ),\n",
    "    n_trials = n_trials_optuna\n",
    ")"
   ]
  },
  {
   "cell_type": "code",
   "execution_count": 18,
   "id": "1819e8f8",
   "metadata": {},
   "outputs": [
    {
     "ename": "ValueError",
     "evalue": "Record does not exist.",
     "output_type": "error",
     "traceback": [
      "\u001b[0;31m---------------------------------------------------------------------------\u001b[0m",
      "\u001b[0;31mValueError\u001b[0m                                Traceback (most recent call last)",
      "Cell \u001b[0;32mIn[18], line 2\u001b[0m\n\u001b[1;32m      1\u001b[0m model: Model \u001b[38;5;241m=\u001b[39m create_model(\n\u001b[0;32m----> 2\u001b[0m     optim \u001b[38;5;241m=\u001b[39m study\u001b[38;5;241m.\u001b[39mbest_params[\u001b[38;5;124m'\u001b[39m\u001b[38;5;124moptim\u001b[39m\u001b[38;5;124m'\u001b[39m],\n\u001b[1;32m      3\u001b[0m     layers \u001b[38;5;241m=\u001b[39m study\u001b[38;5;241m.\u001b[39mbest_params[\u001b[38;5;124m'\u001b[39m\u001b[38;5;124mlayers\u001b[39m\u001b[38;5;124m'\u001b[39m],\n\u001b[1;32m      4\u001b[0m     n_lstm \u001b[38;5;241m=\u001b[39m study\u001b[38;5;241m.\u001b[39mbest_params[\u001b[38;5;124m'\u001b[39m\u001b[38;5;124mn_lstm\u001b[39m\u001b[38;5;124m'\u001b[39m],\n\u001b[1;32m      5\u001b[0m     dropoutFoward \u001b[38;5;241m=\u001b[39m study\u001b[38;5;241m.\u001b[39mbest_params[\u001b[38;5;124m'\u001b[39m\u001b[38;5;124mdropoutFoward\u001b[39m\u001b[38;5;124m'\u001b[39m],\n\u001b[1;32m      6\u001b[0m     stepsBack \u001b[38;5;241m=\u001b[39m observation_window[\u001b[38;5;124m'\u001b[39m\u001b[38;5;124mstepsBack\u001b[39m\u001b[38;5;124m'\u001b[39m],\n\u001b[1;32m      7\u001b[0m     stepsFoward \u001b[38;5;241m=\u001b[39m observation_window[\u001b[38;5;124m'\u001b[39m\u001b[38;5;124mstepsFoward\u001b[39m\u001b[38;5;124m'\u001b[39m]\n\u001b[1;32m      8\u001b[0m )\n",
      "File \u001b[0;32m~/anaconda3/lib/python3.11/site-packages/optuna/study/study.py:114\u001b[0m, in \u001b[0;36mStudy.best_params\u001b[0;34m(self)\u001b[0m\n\u001b[1;32m    102\u001b[0m \u001b[38;5;129m@property\u001b[39m\n\u001b[1;32m    103\u001b[0m \u001b[38;5;28;01mdef\u001b[39;00m \u001b[38;5;21mbest_params\u001b[39m(\u001b[38;5;28mself\u001b[39m) \u001b[38;5;241m-\u001b[39m\u001b[38;5;241m>\u001b[39m \u001b[38;5;28mdict\u001b[39m[\u001b[38;5;28mstr\u001b[39m, Any]:\n\u001b[1;32m    104\u001b[0m \u001b[38;5;250m    \u001b[39m\u001b[38;5;124;03m\"\"\"Return parameters of the best trial in the study.\u001b[39;00m\n\u001b[1;32m    105\u001b[0m \n\u001b[1;32m    106\u001b[0m \u001b[38;5;124;03m    .. note::\u001b[39;00m\n\u001b[0;32m   (...)\u001b[0m\n\u001b[1;32m    111\u001b[0m \n\u001b[1;32m    112\u001b[0m \u001b[38;5;124;03m    \"\"\"\u001b[39;00m\n\u001b[0;32m--> 114\u001b[0m     \u001b[38;5;28;01mreturn\u001b[39;00m \u001b[38;5;28mself\u001b[39m\u001b[38;5;241m.\u001b[39mbest_trial\u001b[38;5;241m.\u001b[39mparams\n",
      "File \u001b[0;32m~/anaconda3/lib/python3.11/site-packages/optuna/study/study.py:157\u001b[0m, in \u001b[0;36mStudy.best_trial\u001b[0;34m(self)\u001b[0m\n\u001b[1;32m    151\u001b[0m \u001b[38;5;28;01mif\u001b[39;00m \u001b[38;5;28mself\u001b[39m\u001b[38;5;241m.\u001b[39m_is_multi_objective():\n\u001b[1;32m    152\u001b[0m     \u001b[38;5;28;01mraise\u001b[39;00m \u001b[38;5;167;01mRuntimeError\u001b[39;00m(\n\u001b[1;32m    153\u001b[0m         \u001b[38;5;124m\"\u001b[39m\u001b[38;5;124mA single best trial cannot be retrieved from a multi-objective study. Consider \u001b[39m\u001b[38;5;124m\"\u001b[39m\n\u001b[1;32m    154\u001b[0m         \u001b[38;5;124m\"\u001b[39m\u001b[38;5;124musing Study.best_trials to retrieve a list containing the best trials.\u001b[39m\u001b[38;5;124m\"\u001b[39m\n\u001b[1;32m    155\u001b[0m     )\n\u001b[0;32m--> 157\u001b[0m \u001b[38;5;28;01mreturn\u001b[39;00m copy\u001b[38;5;241m.\u001b[39mdeepcopy(\u001b[38;5;28mself\u001b[39m\u001b[38;5;241m.\u001b[39m_storage\u001b[38;5;241m.\u001b[39mget_best_trial(\u001b[38;5;28mself\u001b[39m\u001b[38;5;241m.\u001b[39m_study_id))\n",
      "File \u001b[0;32m~/anaconda3/lib/python3.11/site-packages/optuna/storages/_cached_storage.py:182\u001b[0m, in \u001b[0;36m_CachedStorage.get_best_trial\u001b[0;34m(self, study_id)\u001b[0m\n\u001b[1;32m    181\u001b[0m \u001b[38;5;28;01mdef\u001b[39;00m \u001b[38;5;21mget_best_trial\u001b[39m(\u001b[38;5;28mself\u001b[39m, study_id: \u001b[38;5;28mint\u001b[39m) \u001b[38;5;241m-\u001b[39m\u001b[38;5;241m>\u001b[39m FrozenTrial:\n\u001b[0;32m--> 182\u001b[0m     \u001b[38;5;28;01mreturn\u001b[39;00m \u001b[38;5;28mself\u001b[39m\u001b[38;5;241m.\u001b[39m_backend\u001b[38;5;241m.\u001b[39mget_best_trial(study_id)\n",
      "File \u001b[0;32m~/anaconda3/lib/python3.11/site-packages/optuna/storages/_rdb/storage.py:916\u001b[0m, in \u001b[0;36mRDBStorage.get_best_trial\u001b[0;34m(self, study_id)\u001b[0m\n\u001b[1;32m    914\u001b[0m         trial \u001b[38;5;241m=\u001b[39m models\u001b[38;5;241m.\u001b[39mTrialModel\u001b[38;5;241m.\u001b[39mfind_max_value_trial(study_id, \u001b[38;5;241m0\u001b[39m, session)\n\u001b[1;32m    915\u001b[0m     \u001b[38;5;28;01melse\u001b[39;00m:\n\u001b[0;32m--> 916\u001b[0m         trial \u001b[38;5;241m=\u001b[39m models\u001b[38;5;241m.\u001b[39mTrialModel\u001b[38;5;241m.\u001b[39mfind_min_value_trial(study_id, \u001b[38;5;241m0\u001b[39m, session)\n\u001b[1;32m    917\u001b[0m     trial_id \u001b[38;5;241m=\u001b[39m trial\u001b[38;5;241m.\u001b[39mtrial_id\n\u001b[1;32m    919\u001b[0m \u001b[38;5;28;01mreturn\u001b[39;00m \u001b[38;5;28mself\u001b[39m\u001b[38;5;241m.\u001b[39mget_trial(trial_id)\n",
      "File \u001b[0;32m~/anaconda3/lib/python3.11/site-packages/optuna/storages/_rdb/models.py:240\u001b[0m, in \u001b[0;36mTrialModel.find_min_value_trial\u001b[0;34m(cls, study_id, objective, session)\u001b[0m\n\u001b[1;32m    221\u001b[0m trial \u001b[38;5;241m=\u001b[39m (\n\u001b[1;32m    222\u001b[0m     session\u001b[38;5;241m.\u001b[39mquery(\u001b[38;5;28mcls\u001b[39m)\n\u001b[1;32m    223\u001b[0m     \u001b[38;5;241m.\u001b[39mfilter(\u001b[38;5;28mcls\u001b[39m\u001b[38;5;241m.\u001b[39mstudy_id \u001b[38;5;241m==\u001b[39m study_id)\n\u001b[0;32m   (...)\u001b[0m\n\u001b[1;32m    237\u001b[0m     \u001b[38;5;241m.\u001b[39mone_or_none()\n\u001b[1;32m    238\u001b[0m )\n\u001b[1;32m    239\u001b[0m \u001b[38;5;28;01mif\u001b[39;00m trial \u001b[38;5;129;01mis\u001b[39;00m \u001b[38;5;28;01mNone\u001b[39;00m:\n\u001b[0;32m--> 240\u001b[0m     \u001b[38;5;28;01mraise\u001b[39;00m \u001b[38;5;167;01mValueError\u001b[39;00m(NOT_FOUND_MSG)\n\u001b[1;32m    241\u001b[0m \u001b[38;5;28;01mreturn\u001b[39;00m trial\n",
      "\u001b[0;31mValueError\u001b[0m: Record does not exist."
     ]
    }
   ],
   "source": [
    "model: Model = create_model(\n",
    "    optim = study.best_params['optim'],\n",
    "    layers = study.best_params['layers'],\n",
    "    n_lstm = study.best_params['n_lstm'],\n",
    "    dropoutFoward = study.best_params['dropoutFoward'],\n",
    "    stepsBack = observation_window['stepsBack'],\n",
    "    stepsFoward = observation_window['stepsFoward']\n",
    ")"
   ]
  },
  {
   "cell_type": "code",
   "execution_count": null,
   "id": "f48fa070",
   "metadata": {},
   "outputs": [],
   "source": [
    "history: History = model.fit(\n",
    "    X_train,\n",
    "    y_train,\n",
    "    epochs=epochs,\n",
    "    batch_size=study.best_params['batch_size'],\n",
    "    validation_data = (X_valid, y_valid),\n",
    "    callbacks = create_callbacks(ticker, label, False, verbose)\n",
    ")"
   ]
  },
  {
   "cell_type": "code",
   "execution_count": null,
   "id": "a98dc7e7",
   "metadata": {},
   "outputs": [],
   "source": [
    "model.save(f'./results/trained models/{ticker}/{label}.h5')"
   ]
  },
  {
   "cell_type": "code",
   "execution_count": null,
   "id": "67f083a2",
   "metadata": {},
   "outputs": [],
   "source": []
  },
  {
   "cell_type": "code",
   "execution_count": null,
   "id": "1740bf9c",
   "metadata": {},
   "outputs": [],
   "source": []
  },
  {
   "cell_type": "code",
   "execution_count": null,
   "id": "44716f2a",
   "metadata": {},
   "outputs": [],
   "source": []
  },
  {
   "cell_type": "code",
   "execution_count": null,
   "id": "bfb7eccc",
   "metadata": {},
   "outputs": [],
   "source": []
  },
  {
   "cell_type": "code",
   "execution_count": null,
   "id": "fc2930e4",
   "metadata": {},
   "outputs": [],
   "source": []
  },
  {
   "cell_type": "code",
   "execution_count": null,
   "id": "d875fb5a",
   "metadata": {},
   "outputs": [],
   "source": [
    "if graphics:\n",
    "    for i in range(observation_window['stepsBack'], len(scaled_df_test) - observation_window['stepsFoward']):\n",
    "        X_temp: np.ndarray = scaled_df_test[i - observation_window['stepsBack']:i, 0]\n",
    "        y_temp: np.ndarray = scaled_df_test[i:i + observation_window['stepsFoward'], 0]\n",
    "\n",
    "        scaled_return_forecast: np.ndarray = model.predict(X_temp.reshape(1, -1, 1))\n",
    "\n",
    "        adj_close_stepback: np.ndarray = scaler.inverse_transform(X_temp.reshape(-1, 1))\n",
    "        adj_close_real: np.ndarray = scaler.inverse_transform(y_temp.reshape(-1, 1))\n",
    "        adj_close_forecast: np.ndarray = scaler.inverse_transform(scaled_return_forecast)\n",
    "\n",
    "        pd_adj_close_stepback: pd.Series = pd.Series(\n",
    "            adj_close_stepback.reshape(-1),\n",
    "            index=df_test.index[i - observation_window['stepsBack']:i])\n",
    "\n",
    "        pd_adj_close_forecast: pd.Series = pd.Series(\n",
    "            adj_close_forecast.reshape(-1),\n",
    "            index=df_test.index[i:i + observation_window['stepsFoward']])\n",
    "\n",
    "        pd_adj_close_real: pd.Series = pd.Series(\n",
    "            adj_close_real.reshape(-1),\n",
    "            index=df_test.index[i:i + observation_window['stepsFoward']])\n",
    "\n",
    "        # Plot\n",
    "        plt.title(f\"Previsão de {ticker} - {pd_adj_close_stepback.index[-1].strftime('%Y-%m-%d')}\")\n",
    "        plt.plot(pd_adj_close_stepback, label = 'Adj Close (SteBack)') \n",
    "        plt.plot(pd_adj_close_forecast, label = 'Adj Close Forecast') \n",
    "        plt.plot(pd_adj_close_real, color = 'orange', label = 'Adj Close') \n",
    "        plt.xticks(rotation=45)\n",
    "        plt.legend(loc = 'best')\n",
    "\n",
    "        if not os.path.exists(f'./results/graphics/{ticker}/{label}/Training'):\n",
    "            os.makedirs(f'./results/graphics/{ticker}/{label}/Training')\n",
    "\n",
    "        plt.savefig(f'./results/graphics/{ticker}/{label}/Training/{pd_adj_close_stepback.index[-1].strftime(\"%Y-%m-%d\")}.png')\n",
    "        plt.close()"
   ]
  }
 ],
 "metadata": {
  "kernelspec": {
   "display_name": "Python 3 (ipykernel)",
   "language": "python",
   "name": "python3"
  },
  "language_info": {
   "codemirror_mode": {
    "name": "ipython",
    "version": 3
   },
   "file_extension": ".py",
   "mimetype": "text/x-python",
   "name": "python",
   "nbconvert_exporter": "python",
   "pygments_lexer": "ipython3",
   "version": "3.11.4"
  }
 },
 "nbformat": 4,
 "nbformat_minor": 5
}
