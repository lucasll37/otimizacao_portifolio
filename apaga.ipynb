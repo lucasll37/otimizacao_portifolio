{
 "cells": [
  {
   "cell_type": "code",
   "execution_count": 1,
   "id": "aaf5d06b",
   "metadata": {},
   "outputs": [],
   "source": [
    "import warnings\n",
    "warnings.filterwarnings('ignore')\n",
    "\n",
    "import pandas as pd\n",
    "import numpy as np\n",
    "import matplotlib.pyplot as plt\n",
    "import random\n",
    "import os\n",
    "import yfinance as yf\n",
    "from pypfopt import EfficientFrontier, expected_returns, risk_models, plotting\n",
    "from typing import Dict, List, Tuple\n",
    "\n",
    "\n",
    "plt.style.use('ggplot')\n",
    "plt.rcParams['figure.figsize'] = [10, 5]\n",
    "plt.rc('figure', autolayout=True)"
   ]
  },
  {
   "cell_type": "code",
   "execution_count": 3,
   "id": "29fe3f9e",
   "metadata": {},
   "outputs": [],
   "source": [
    "from src.variables import tickers, period, SEED, risk_free_rate, minimum_participation, maximum_participation"
   ]
  },
  {
   "cell_type": "code",
   "execution_count": 4,
   "id": "41cbb5dd",
   "metadata": {},
   "outputs": [],
   "source": [
    "use_ia = False"
   ]
  },
  {
   "cell_type": "code",
   "execution_count": 5,
   "id": "202c6ecd",
   "metadata": {},
   "outputs": [],
   "source": [
    "random.seed(SEED)\n",
    "np.random.seed(SEED)"
   ]
  },
  {
   "cell_type": "code",
   "execution_count": 6,
   "id": "ef808029",
   "metadata": {},
   "outputs": [],
   "source": [
    "adjClosePrice: pd.DataFrame = yf.download(tickers, start = period['start'], end = period['end'], progress=False)[\"Adj Close\"]\n",
    "adjClosePrice.fillna(method = 'ffill', inplace=True)"
   ]
  },
  {
   "cell_type": "code",
   "execution_count": 7,
   "id": "defb4a75",
   "metadata": {},
   "outputs": [
    {
     "data": {
      "text/html": [
       "<div>\n",
       "<style scoped>\n",
       "    .dataframe tbody tr th:only-of-type {\n",
       "        vertical-align: middle;\n",
       "    }\n",
       "\n",
       "    .dataframe tbody tr th {\n",
       "        vertical-align: top;\n",
       "    }\n",
       "\n",
       "    .dataframe thead th {\n",
       "        text-align: right;\n",
       "    }\n",
       "</style>\n",
       "<table border=\"1\" class=\"dataframe\">\n",
       "  <thead>\n",
       "    <tr style=\"text-align: right;\">\n",
       "      <th></th>\n",
       "      <th>ABEV3.SA</th>\n",
       "      <th>AZUL4.SA</th>\n",
       "    </tr>\n",
       "    <tr>\n",
       "      <th>Date</th>\n",
       "      <th></th>\n",
       "      <th></th>\n",
       "    </tr>\n",
       "  </thead>\n",
       "  <tbody>\n",
       "    <tr>\n",
       "      <th>2014-01-08</th>\n",
       "      <td>11.453034</td>\n",
       "      <td>NaN</td>\n",
       "    </tr>\n",
       "    <tr>\n",
       "      <th>2014-01-09</th>\n",
       "      <td>11.184705</td>\n",
       "      <td>NaN</td>\n",
       "    </tr>\n",
       "    <tr>\n",
       "      <th>2014-01-10</th>\n",
       "      <td>11.256696</td>\n",
       "      <td>NaN</td>\n",
       "    </tr>\n",
       "    <tr>\n",
       "      <th>2014-01-13</th>\n",
       "      <td>11.151981</td>\n",
       "      <td>NaN</td>\n",
       "    </tr>\n",
       "    <tr>\n",
       "      <th>2014-01-14</th>\n",
       "      <td>11.119261</td>\n",
       "      <td>NaN</td>\n",
       "    </tr>\n",
       "    <tr>\n",
       "      <th>...</th>\n",
       "      <td>...</td>\n",
       "      <td>...</td>\n",
       "    </tr>\n",
       "    <tr>\n",
       "      <th>2022-12-27</th>\n",
       "      <td>13.798742</td>\n",
       "      <td>10.74</td>\n",
       "    </tr>\n",
       "    <tr>\n",
       "      <th>2022-12-28</th>\n",
       "      <td>13.827251</td>\n",
       "      <td>11.16</td>\n",
       "    </tr>\n",
       "    <tr>\n",
       "      <th>2022-12-29</th>\n",
       "      <td>13.798742</td>\n",
       "      <td>11.01</td>\n",
       "    </tr>\n",
       "    <tr>\n",
       "      <th>2023-01-02</th>\n",
       "      <td>13.485133</td>\n",
       "      <td>10.30</td>\n",
       "    </tr>\n",
       "    <tr>\n",
       "      <th>2023-01-03</th>\n",
       "      <td>13.466127</td>\n",
       "      <td>10.16</td>\n",
       "    </tr>\n",
       "  </tbody>\n",
       "</table>\n",
       "<p>2234 rows × 2 columns</p>\n",
       "</div>"
      ],
      "text/plain": [
       "             ABEV3.SA  AZUL4.SA\n",
       "Date                           \n",
       "2014-01-08  11.453034       NaN\n",
       "2014-01-09  11.184705       NaN\n",
       "2014-01-10  11.256696       NaN\n",
       "2014-01-13  11.151981       NaN\n",
       "2014-01-14  11.119261       NaN\n",
       "...               ...       ...\n",
       "2022-12-27  13.798742     10.74\n",
       "2022-12-28  13.827251     11.16\n",
       "2022-12-29  13.798742     11.01\n",
       "2023-01-02  13.485133     10.30\n",
       "2023-01-03  13.466127     10.16\n",
       "\n",
       "[2234 rows x 2 columns]"
      ]
     },
     "execution_count": 7,
     "metadata": {},
     "output_type": "execute_result"
    }
   ],
   "source": [
    "adjClosePrice"
   ]
  },
  {
   "cell_type": "code",
   "execution_count": 8,
   "id": "d0fae71c",
   "metadata": {},
   "outputs": [],
   "source": [
    "data: pd.DataFrame = pd.read_csv(f'./results/data/{tickers[0]}.csv', index_col='Date', parse_dates=True)\n",
    "label_w_ticker: str = f\"period {data.index.min().strftime('%Y-%m-%d')} - {data.index.max().strftime('%Y-%m-%d')}\""
   ]
  },
  {
   "cell_type": "code",
   "execution_count": 9,
   "id": "c77014b4",
   "metadata": {},
   "outputs": [],
   "source": [
    "if use_ia:\n",
    "    df_expected_return: pd.DataFrame = pd.read_csv('./results/prediction/Expected Return.csv', index_col='Ticker')\n",
    "    aux_expected_return: Dict[str, float] = {}\n",
    "\n",
    "    for ticker in tickers:\n",
    "        aux_expected_return[ticker] = df_expected_return.loc[ticker, 'Expected Returns']\n",
    "\n",
    "    forecast_return: pd.Series = pd.Series(aux_expected_return)\n",
    "\n",
    "else:\n",
    "    forecast_return: pd.Series = expected_returns.mean_historical_return(adjClosePrice)"
   ]
  },
  {
   "cell_type": "code",
   "execution_count": 10,
   "id": "0eaf6689",
   "metadata": {},
   "outputs": [],
   "source": [
    "cov_matrix: pd.DataFrame = risk_models.sample_cov(adjClosePrice)"
   ]
  },
  {
   "cell_type": "code",
   "execution_count": 11,
   "id": "0a6e3932",
   "metadata": {},
   "outputs": [
    {
     "ename": "ValueError",
     "evalue": "at least one of the assets must have an expected return exceeding the risk-free rate",
     "output_type": "error",
     "traceback": [
      "\u001b[0;31m---------------------------------------------------------------------------\u001b[0m",
      "\u001b[0;31mValueError\u001b[0m                                Traceback (most recent call last)",
      "Cell \u001b[0;32mIn[11], line 4\u001b[0m\n\u001b[1;32m      2\u001b[0m ef\u001b[38;5;241m.\u001b[39madd_constraint(\u001b[38;5;28;01mlambda\u001b[39;00m w: w \u001b[38;5;241m>\u001b[39m\u001b[38;5;241m=\u001b[39m \u001b[38;5;241m0\u001b[39m)\n\u001b[1;32m      3\u001b[0m ef\u001b[38;5;241m.\u001b[39madd_constraint(\u001b[38;5;28;01mlambda\u001b[39;00m w: w \u001b[38;5;241m<\u001b[39m\u001b[38;5;241m=\u001b[39m maximum_participation)\n\u001b[0;32m----> 4\u001b[0m ef\u001b[38;5;241m.\u001b[39mmax_sharpe(risk_free_rate \u001b[38;5;241m=\u001b[39m risk_free_rate)\n\u001b[1;32m      6\u001b[0m pre_pesos: Dict[\u001b[38;5;28mstr\u001b[39m, \u001b[38;5;28mfloat\u001b[39m] \u001b[38;5;241m=\u001b[39m ef\u001b[38;5;241m.\u001b[39mclean_weights()\n\u001b[1;32m      7\u001b[0m pesos_restritos \u001b[38;5;241m=\u001b[39m {k: (v \u001b[38;5;28;01mif\u001b[39;00m v \u001b[38;5;241m>\u001b[39m minimum_participation \u001b[38;5;28;01melse\u001b[39;00m \u001b[38;5;241m0\u001b[39m) \u001b[38;5;28;01mfor\u001b[39;00m k, v \u001b[38;5;129;01min\u001b[39;00m pre_pesos\u001b[38;5;241m.\u001b[39mitems()}\n",
      "File \u001b[0;32m~/anaconda3/lib/python3.11/site-packages/pypfopt/efficient_frontier/efficient_frontier.py:245\u001b[0m, in \u001b[0;36mEfficientFrontier.max_sharpe\u001b[0;34m(self, risk_free_rate)\u001b[0m\n\u001b[1;32m    242\u001b[0m     \u001b[38;5;28;01mraise\u001b[39;00m \u001b[38;5;167;01mValueError\u001b[39;00m(\u001b[38;5;124m\"\u001b[39m\u001b[38;5;124mrisk_free_rate should be numeric\u001b[39m\u001b[38;5;124m\"\u001b[39m)\n\u001b[1;32m    244\u001b[0m \u001b[38;5;28;01mif\u001b[39;00m \u001b[38;5;28mmax\u001b[39m(\u001b[38;5;28mself\u001b[39m\u001b[38;5;241m.\u001b[39mexpected_returns) \u001b[38;5;241m<\u001b[39m\u001b[38;5;241m=\u001b[39m risk_free_rate:\n\u001b[0;32m--> 245\u001b[0m     \u001b[38;5;28;01mraise\u001b[39;00m \u001b[38;5;167;01mValueError\u001b[39;00m(\n\u001b[1;32m    246\u001b[0m         \u001b[38;5;124m\"\u001b[39m\u001b[38;5;124mat least one of the assets must have an expected return exceeding the risk-free rate\u001b[39m\u001b[38;5;124m\"\u001b[39m\n\u001b[1;32m    247\u001b[0m     )\n\u001b[1;32m    249\u001b[0m \u001b[38;5;28mself\u001b[39m\u001b[38;5;241m.\u001b[39m_risk_free_rate \u001b[38;5;241m=\u001b[39m risk_free_rate\n\u001b[1;32m    251\u001b[0m \u001b[38;5;66;03m# max_sharpe requires us to make a variable transformation.\u001b[39;00m\n\u001b[1;32m    252\u001b[0m \u001b[38;5;66;03m# Here we treat w as the transformed variable.\u001b[39;00m\n",
      "\u001b[0;31mValueError\u001b[0m: at least one of the assets must have an expected return exceeding the risk-free rate"
     ]
    }
   ],
   "source": [
    "ef: EfficientFrontier = EfficientFrontier(forecast_return, cov_matrix)\n",
    "ef.add_constraint(lambda w: w >= 0)\n",
    "ef.add_constraint(lambda w: w <= maximum_participation)\n",
    "ef.max_sharpe(risk_free_rate = risk_free_rate)\n",
    "\n",
    "pre_pesos: Dict[str, float] = ef.clean_weights()\n",
    "pesos_restritos = {k: (v if v > minimum_participation else 0) for k, v in pre_pesos.items()}\n",
    "\n",
    "ef = EfficientFrontier(forecast_return, cov_matrix)\n",
    "ef.add_constraint(lambda w: w >= 0)\n",
    "ef.add_constraint(lambda w: w <= maximum_participation)\n",
    "ef.set_weights(pesos_restritos)\n",
    "\n",
    "performance: Tuple[float, float, float] = ef.portfolio_performance(verbose = False)\n",
    "pesos_limpos = ef.clean_weights() \n",
    "\n",
    "pesos: pd.Series = pd.Series(pesos_limpos)\n",
    "\n",
    "test: pd.DataFrame = pd.DataFrame(columns=['Peso'])\n",
    "test.index.name = 'Ticker'\n",
    "for ticker, peso in zip(tickers, pesos):\n",
    "    if peso > 0:\n",
    "        test.loc[ticker, 'Peso'] = peso\n",
    "\n",
    "if not os.path.exists(f'./results/portfolio'):\n",
    "    os.makedirs(f'./results/portfolio')\n",
    "\n",
    "test.to_csv('./results/portfolio/pesos.csv')"
   ]
  },
  {
   "cell_type": "code",
   "execution_count": null,
   "id": "bc5eea5c",
   "metadata": {},
   "outputs": [],
   "source": [
    "\n",
    "\n",
    "\n",
    "\n",
    "\n",
    "\n",
    "\n",
    "\n",
    "\n",
    "\n",
    "\n",
    "\n",
    "pesos: pd.Series = pesos[pesos >= minimum_participation]\n",
    "explode: List[float] = [0.1 for _ in range(len(pesos))]\n",
    "\n",
    "\n",
    "text: str = f'Expected annual return: {performance[0]:.1%} \\\n",
    "              \\nAnnual volatility: {performance[1]:.1%} \\\n",
    "              \\nSharpe Ratio: {performance[2]:.2f}'\n",
    "\n",
    "percentuais: List[float] = [f'{p:.1f}%' for p in pesos.values * 100]\n",
    "legend_labels: List[str] = [f'{index[:-3]} - {percentual}' for index, percentual in zip(pesos.index, percentuais)]\n",
    "\n",
    "fig, ax = plt.subplots(figsize=(10, 5))\n",
    "wedges, texts, autotexts = ax.pie(pesos.values, explode=explode, labels=pesos.index, autopct='%1.1f%%',\n",
    "                                  shadow=True, startangle=90)\n",
    "\n",
    "ax.legend(wedges, legend_labels, title=\"Ações\", loc=\"upper left\", bbox_to_anchor=(1.2, 0, 0.5, 1))\n",
    "ax.set_title(f\"Portifólio Otimizado - {label_w_ticker}\")\n",
    "fig.subplots_adjust(bottom=0.25)\n",
    "fig.text(0.75, 0.15, text, wrap=True, ha='left', va='top', fontsize=8)\n",
    "plt.tight_layout()\n",
    "plt.savefig(f'./results/portfolio/Portifólio Otimizado - {label_w_ticker}.png')\n",
    "plt.close()\n",
    "\n",
    "ef = EfficientFrontier(forecast_return, cov_matrix)\n",
    "_, ax = plt.subplots(figsize=(10, 5))\n",
    "plotting.plot_efficient_frontier(ef, ax=ax, show_assets=True, risk_free_rate = risk_free_rate, market_map=True)\n",
    "plt.title(f'Fronteira Eficiente de Markowitz - {label_w_ticker}')\n",
    "plt.savefig(f'./results/portfolio/Fronteira de Eficiência - {label_w_ticker}.png')\n",
    "plt.close()"
   ]
  }
 ],
 "metadata": {
  "kernelspec": {
   "display_name": "Python 3 (ipykernel)",
   "language": "python",
   "name": "python3"
  },
  "language_info": {
   "codemirror_mode": {
    "name": "ipython",
    "version": 3
   },
   "file_extension": ".py",
   "mimetype": "text/x-python",
   "name": "python",
   "nbconvert_exporter": "python",
   "pygments_lexer": "ipython3",
   "version": "3.11.4"
  }
 },
 "nbformat": 4,
 "nbformat_minor": 5
}
