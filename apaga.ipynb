{
 "cells": [
  {
   "cell_type": "code",
   "execution_count": 25,
   "id": "67f083a2",
   "metadata": {},
   "outputs": [],
   "source": [
    "import warnings\n",
    "warnings.filterwarnings('ignore')\n",
    "\n",
    "from typing import List\n",
    "import pandas as pd\n",
    "import numpy as np\n",
    "import matplotlib.pyplot as plt\n",
    "import os\n",
    "import keras\n",
    "import random\n",
    "from joblib import load\n",
    "from pandas.tseries.offsets import BDay\n",
    "from pypfopt import expected_returns\n",
    "from sklearn.preprocessing import MinMaxScaler\n",
    "\n",
    "plt.style.use('ggplot')\n",
    "plt.rcParams['figure.figsize'] = [10, 5]\n",
    "plt.rc('figure', autolayout=True)"
   ]
  },
  {
   "cell_type": "code",
   "execution_count": 45,
   "id": "1740bf9c",
   "metadata": {},
   "outputs": [],
   "source": [
    "from src.variables import tickers, period, observation_window, SEED\n",
    "\n",
    "graphics: bool = True\n",
    "ticker = tickers[0]"
   ]
  },
  {
   "cell_type": "code",
   "execution_count": null,
   "id": "44716f2a",
   "metadata": {},
   "outputs": [],
   "source": [
    "random.seed(SEED)\n",
    "np.random.seed(SEED)"
   ]
  },
  {
   "cell_type": "code",
   "execution_count": 31,
   "id": "bfb7eccc",
   "metadata": {},
   "outputs": [],
   "source": [
    "data: pd.DataFrame = pd.read_csv(f'./results/data/{ticker}.csv', index_col='Date', parse_dates=True)\n",
    "label: str = f\"{ticker} period {data.index.min().strftime('%Y-%m-%d')} - {data.index.max().strftime('%Y-%m-%d')}\""
   ]
  },
  {
   "cell_type": "code",
   "execution_count": 35,
   "id": "fc2930e4",
   "metadata": {},
   "outputs": [],
   "source": [
    "df_test: pd.DataFrame = data[data.index >= pd.Timestamp(period['boundary'])][['Adj Close']]"
   ]
  },
  {
   "cell_type": "code",
   "execution_count": 36,
   "id": "ada2e351",
   "metadata": {},
   "outputs": [],
   "source": [
    "scaler: MinMaxScaler = load(f'./results/serialized objects/{ticker}/scaler - {label}.joblib')\n",
    "model: keras.models.Model = keras.models.load_model(f'./results/trained models/{ticker}/{label}.h5')"
   ]
  },
  {
   "cell_type": "code",
   "execution_count": 37,
   "id": "8df2f2fd",
   "metadata": {},
   "outputs": [],
   "source": [
    "X_test: pd.DataFrame = data[['Adj Close']].iloc[-observation_window['stepsBack'] - observation_window['stepsFoward'] : - observation_window['stepsFoward']]"
   ]
  },
  {
   "cell_type": "code",
   "execution_count": 75,
   "id": "d43836d7",
   "metadata": {},
   "outputs": [
    {
     "data": {
      "text/html": [
       "<div>\n",
       "<style scoped>\n",
       "    .dataframe tbody tr th:only-of-type {\n",
       "        vertical-align: middle;\n",
       "    }\n",
       "\n",
       "    .dataframe tbody tr th {\n",
       "        vertical-align: top;\n",
       "    }\n",
       "\n",
       "    .dataframe thead th {\n",
       "        text-align: right;\n",
       "    }\n",
       "</style>\n",
       "<table border=\"1\" class=\"dataframe\">\n",
       "  <thead>\n",
       "    <tr style=\"text-align: right;\">\n",
       "      <th></th>\n",
       "      <th>Adj Close</th>\n",
       "    </tr>\n",
       "    <tr>\n",
       "      <th>Date</th>\n",
       "      <th></th>\n",
       "    </tr>\n",
       "  </thead>\n",
       "  <tbody>\n",
       "    <tr>\n",
       "      <th>2021-10-21</th>\n",
       "      <td>13.154419</td>\n",
       "    </tr>\n",
       "    <tr>\n",
       "      <th>2021-10-22</th>\n",
       "      <td>13.032780</td>\n",
       "    </tr>\n",
       "    <tr>\n",
       "      <th>2021-10-25</th>\n",
       "      <td>13.267370</td>\n",
       "    </tr>\n",
       "    <tr>\n",
       "      <th>2021-10-26</th>\n",
       "      <td>13.171796</td>\n",
       "    </tr>\n",
       "    <tr>\n",
       "      <th>2021-10-27</th>\n",
       "      <td>13.223927</td>\n",
       "    </tr>\n",
       "    <tr>\n",
       "      <th>...</th>\n",
       "      <td>...</td>\n",
       "    </tr>\n",
       "    <tr>\n",
       "      <th>2022-09-29</th>\n",
       "      <td>14.092089</td>\n",
       "    </tr>\n",
       "    <tr>\n",
       "      <th>2022-09-30</th>\n",
       "      <td>14.028895</td>\n",
       "    </tr>\n",
       "    <tr>\n",
       "      <th>2022-10-03</th>\n",
       "      <td>14.714993</td>\n",
       "    </tr>\n",
       "    <tr>\n",
       "      <th>2022-10-04</th>\n",
       "      <td>14.660828</td>\n",
       "    </tr>\n",
       "    <tr>\n",
       "      <th>2022-10-05</th>\n",
       "      <td>14.552497</td>\n",
       "    </tr>\n",
       "  </tbody>\n",
       "</table>\n",
       "<p>240 rows × 1 columns</p>\n",
       "</div>"
      ],
      "text/plain": [
       "            Adj Close\n",
       "Date                 \n",
       "2021-10-21  13.154419\n",
       "2021-10-22  13.032780\n",
       "2021-10-25  13.267370\n",
       "2021-10-26  13.171796\n",
       "2021-10-27  13.223927\n",
       "...               ...\n",
       "2022-09-29  14.092089\n",
       "2022-09-30  14.028895\n",
       "2022-10-03  14.714993\n",
       "2022-10-04  14.660828\n",
       "2022-10-05  14.552497\n",
       "\n",
       "[240 rows x 1 columns]"
      ]
     },
     "execution_count": 75,
     "metadata": {},
     "output_type": "execute_result"
    }
   ],
   "source": [
    "X_test"
   ]
  },
  {
   "cell_type": "code",
   "execution_count": 39,
   "id": "94f33150",
   "metadata": {},
   "outputs": [
    {
     "name": "stdout",
     "output_type": "stream",
     "text": [
      "1/1 [==============================] - 1s 601ms/step\n"
     ]
    }
   ],
   "source": [
    "scaler_X_test: np.ndarray = scaler.transform(X_test)\n",
    "scaled_adj_close_test: np.ndarray = model.predict(scaler_X_test.reshape(1, -1, 1))\n",
    "np_adj_close_test: np.ndarray = scaler.inverse_transform(scaled_adj_close_test)\n",
    "\n",
    "adj_close_test: pd.DataFrame = pd.DataFrame(\n",
    "    np_adj_close_test.reshape(-1, 1),\n",
    "    index=data[-observation_window['stepsFoward']:].index,\n",
    "    columns=['Adj Close Test']\n",
    ")"
   ]
  },
  {
   "cell_type": "code",
   "execution_count": 43,
   "id": "754afceb",
   "metadata": {},
   "outputs": [
    {
     "name": "stdout",
     "output_type": "stream",
     "text": [
      "1/1 [==============================] - 0s 45ms/step\n"
     ]
    }
   ],
   "source": [
    "X_temp: pd.DataFrame = data[['Adj Close']].iloc[-observation_window['stepsBack']:]\n",
    "scaler_X_temp: np.ndarray = scaler.transform(X_temp)\n",
    "scaled_adj_close_forecast: np.ndarray = model.predict(scaler_X_temp.reshape(1, -1, 1))\n",
    "adj_close_forecast: np.ndarray = scaler.inverse_transform(scaled_adj_close_forecast)\n",
    "\n",
    "adj_close_forecast = pd.DataFrame(\n",
    "    adj_close_forecast.reshape(-1, 1),\n",
    "    index=pd.bdate_range(start=X_temp.index[-1] + BDay(1), periods=observation_window['stepsFoward']),\n",
    "    columns=['Adj Close Forecast']\n",
    ")"
   ]
  },
  {
   "cell_type": "code",
   "execution_count": 47,
   "id": "099d5368",
   "metadata": {},
   "outputs": [],
   "source": [
    "real_adj_close_test: pd.DataFrame = data[['Adj Close']][-observation_window['stepsFoward']:]\n",
    "real_adj_close_test.rename(columns={'Adj Close': 'Real Adj Close Test'}, inplace= True)\n",
    "adj_close: pd.DataFrame = pd.concat([real_adj_close_test, adj_close_test, adj_close_forecast])\n",
    "adj_close.index.name = 'Date'\n",
    "adj_close: pd.DataFrame = adj_close.groupby(adj_close.index).sum()\n",
    "\n",
    "if not os.path.exists(f'./results/prediction/{ticker}/{label}'):\n",
    "    os.makedirs(f'./results/prediction/{ticker}/{label}')\n",
    "\n",
    "adj_close.to_csv(f'./results/prediction/{ticker}/{label}/Adj Close.csv')"
   ]
  },
  {
   "cell_type": "code",
   "execution_count": 82,
   "id": "e858cf99",
   "metadata": {},
   "outputs": [],
   "source": [
    "try:\n",
    "    info: pd.DataFrame = pd.read_csv('./results/prediction/Expected Return.csv', index_col='Ticker')\n",
    "\n",
    "except:\n",
    "    info: pd.DataFrame = pd.DataFrame(columns=['Expected Returns', 'Volatility', 'Drift', 'Test Volatility', 'Test Drift'])\n",
    "    info.index.name = 'Ticker'\n",
    "\n",
    "info.loc[ticker, 'Expected Returns'] = expected_returns.mean_historical_return(\n",
    "        adj_close_forecast,\n",
    "        frequency=observation_window['stepsFoward']\n",
    "    )['Adj Close Forecast']\n",
    "\n",
    "info.loc[ticker, 'Volatility'] = X_temp[['Adj Close']].pct_change().dropna().std()['Adj Close']\n",
    "\n",
    "info.loc[ticker, 'Drift'] = expected_returns.mean_historical_return(\n",
    "        adj_close_forecast,\n",
    "        frequency=1\n",
    "    )['Adj Close Forecast']\n",
    "\n",
    "info.loc[ticker, 'Test Volatility'] = X_test[['Adj Close']].pct_change().dropna().std()['Adj Close']\n",
    "\n",
    "info.loc[ticker, 'Test Drift'] =expected_returns.mean_historical_return(\n",
    "        adj_close_test,\n",
    "        frequency=1\n",
    "    )['Adj Close Test']\n",
    "\n",
    "info.to_csv('./results/prediction/Expected Return.csv')"
   ]
  },
  {
   "cell_type": "code",
   "execution_count": 83,
   "id": "71ca62ba",
   "metadata": {},
   "outputs": [
    {
     "data": {
      "text/html": [
       "<div>\n",
       "<style scoped>\n",
       "    .dataframe tbody tr th:only-of-type {\n",
       "        vertical-align: middle;\n",
       "    }\n",
       "\n",
       "    .dataframe tbody tr th {\n",
       "        vertical-align: top;\n",
       "    }\n",
       "\n",
       "    .dataframe thead th {\n",
       "        text-align: right;\n",
       "    }\n",
       "</style>\n",
       "<table border=\"1\" class=\"dataframe\">\n",
       "  <thead>\n",
       "    <tr style=\"text-align: right;\">\n",
       "      <th></th>\n",
       "      <th>Expected Returns</th>\n",
       "      <th>Volatility</th>\n",
       "      <th>Drift</th>\n",
       "      <th>Test Volatility</th>\n",
       "      <th>Test Drift</th>\n",
       "    </tr>\n",
       "    <tr>\n",
       "      <th>Ticker</th>\n",
       "      <th></th>\n",
       "      <th></th>\n",
       "      <th></th>\n",
       "      <th></th>\n",
       "      <th></th>\n",
       "    </tr>\n",
       "  </thead>\n",
       "  <tbody>\n",
       "    <tr>\n",
       "      <th>ABEV3.SA</th>\n",
       "      <td>0.017776</td>\n",
       "      <td>0.0158</td>\n",
       "      <td>0.000294</td>\n",
       "      <td>0.016211</td>\n",
       "      <td>0.000322</td>\n",
       "    </tr>\n",
       "  </tbody>\n",
       "</table>\n",
       "</div>"
      ],
      "text/plain": [
       "          Expected Returns  Volatility     Drift  Test Volatility  Test Drift\n",
       "Ticker                                                                       \n",
       "ABEV3.SA          0.017776      0.0158  0.000294         0.016211    0.000322"
      ]
     },
     "execution_count": 83,
     "metadata": {},
     "output_type": "execute_result"
    }
   ],
   "source": [
    "info"
   ]
  },
  {
   "cell_type": "code",
   "execution_count": null,
   "id": "36b76e64",
   "metadata": {},
   "outputs": [],
   "source": []
  }
 ],
 "metadata": {
  "kernelspec": {
   "display_name": "Python 3 (ipykernel)",
   "language": "python",
   "name": "python3"
  },
  "language_info": {
   "codemirror_mode": {
    "name": "ipython",
    "version": 3
   },
   "file_extension": ".py",
   "mimetype": "text/x-python",
   "name": "python",
   "nbconvert_exporter": "python",
   "pygments_lexer": "ipython3",
   "version": "3.11.4"
  }
 },
 "nbformat": 4,
 "nbformat_minor": 5
}
